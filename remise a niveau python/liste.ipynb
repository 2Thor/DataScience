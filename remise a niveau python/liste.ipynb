{
 "cells": [
  {
   "cell_type": "code",
   "execution_count": 1,
   "id": "bdd3e2de",
   "metadata": {},
   "outputs": [],
   "source": [
    "villes = ['Paris','Berlin','Londres', 'Tokyo']"
   ]
  },
  {
   "cell_type": "code",
   "execution_count": 2,
   "id": "808ce6f2",
   "metadata": {},
   "outputs": [
    {
     "data": {
      "text/plain": [
       "['Paris', 'Berlin', 'Londres', 'Tokyo']"
      ]
     },
     "execution_count": 2,
     "metadata": {},
     "output_type": "execute_result"
    }
   ],
   "source": [
    "villes"
   ]
  },
  {
   "cell_type": "code",
   "execution_count": 10,
   "id": "69e7ab52",
   "metadata": {},
   "outputs": [
    {
     "data": {
      "text/plain": [
       "['Tokyo',\n",
       " 'Paris',\n",
       " 'Madrid',\n",
       " 'Madrid',\n",
       " 'Madrid',\n",
       " 'Londres',\n",
       " 'Bruxelles',\n",
       " 'Bruxelles',\n",
       " 'Bruxelles',\n",
       " 'Berlin']"
      ]
     },
     "execution_count": 10,
     "metadata": {},
     "output_type": "execute_result"
    }
   ],
   "source": [
    "villes2 = ['Bruxelles','Madrid']\n",
    "villes.extend(villes2)\n",
    "villes.sort(reverse=True)\n",
    "villes"
   ]
  },
  {
   "cell_type": "code",
   "execution_count": 6,
   "id": "4e06f49f",
   "metadata": {},
   "outputs": [
    {
     "data": {
      "text/plain": [
       "8"
      ]
     },
     "execution_count": 6,
     "metadata": {},
     "output_type": "execute_result"
    }
   ],
   "source": [
    "len(villes)"
   ]
  },
  {
   "cell_type": "code",
   "execution_count": 9,
   "id": "48d48102",
   "metadata": {},
   "outputs": [
    {
     "data": {
      "text/plain": [
       "1"
      ]
     },
     "execution_count": 9,
     "metadata": {},
     "output_type": "execute_result"
    }
   ],
   "source": [
    "villes.count('Paris')"
   ]
  },
  {
   "cell_type": "code",
   "execution_count": 11,
   "id": "a5563d88",
   "metadata": {},
   "outputs": [
    {
     "name": "stdout",
     "output_type": "stream",
     "text": [
      "oui\n"
     ]
    }
   ],
   "source": [
    "if 'Paris' in villes:\n",
    "    print('oui')"
   ]
  },
  {
   "cell_type": "code",
   "execution_count": 12,
   "id": "0517d8aa",
   "metadata": {},
   "outputs": [
    {
     "name": "stdout",
     "output_type": "stream",
     "text": [
      "0 Tokyo\n",
      "1 Paris\n",
      "2 Madrid\n",
      "3 Madrid\n",
      "4 Madrid\n",
      "5 Londres\n",
      "6 Bruxelles\n",
      "7 Bruxelles\n",
      "8 Bruxelles\n",
      "9 Berlin\n"
     ]
    }
   ],
   "source": [
    "for index, valeur in enumerate(villes):\n",
    "    print(index, valeur)"
   ]
  },
  {
   "cell_type": "code",
   "execution_count": 14,
   "id": "1e539e19",
   "metadata": {},
   "outputs": [
    {
     "name": "stdout",
     "output_type": "stream",
     "text": [
      "Tokyo 12\n",
      "Paris 54\n",
      "Madrid 67\n",
      "Madrid 80\n"
     ]
    }
   ],
   "source": [
    "liste2=[12,54,67,80]\n",
    "for a, b in zip(villes, liste2):\n",
    "    print(a, b)"
   ]
  },
  {
   "cell_type": "code",
   "execution_count": null,
   "id": "905e1c48",
   "metadata": {},
   "outputs": [],
   "source": []
  }
 ],
 "metadata": {
  "kernelspec": {
   "display_name": "Python 3",
   "language": "python",
   "name": "python3"
  },
  "language_info": {
   "codemirror_mode": {
    "name": "ipython",
    "version": 3
   },
   "file_extension": ".py",
   "mimetype": "text/x-python",
   "name": "python",
   "nbconvert_exporter": "python",
   "pygments_lexer": "ipython3",
   "version": "3.8.8"
  }
 },
 "nbformat": 4,
 "nbformat_minor": 5
}
