{
 "cells": [
  {
   "cell_type": "code",
   "execution_count": 2,
   "id": "7c02c878",
   "metadata": {},
   "outputs": [
    {
     "data": {
      "text/plain": [
       "{'poire': 5000, 'pomme': 109, 'cerise': 214}"
      ]
     },
     "execution_count": 2,
     "metadata": {},
     "output_type": "execute_result"
    }
   ],
   "source": [
    "inventaire = {\n",
    "    \"poire\": 5000,\n",
    "    \"pomme\": 109,\n",
    "    \"cerise\": 214,\n",
    "}\n",
    "inventaire    "
   ]
  },
  {
   "cell_type": "code",
   "execution_count": 3,
   "id": "028423ba",
   "metadata": {},
   "outputs": [
    {
     "data": {
      "text/plain": [
       "dict_values([5000, 109, 214])"
      ]
     },
     "execution_count": 3,
     "metadata": {},
     "output_type": "execute_result"
    }
   ],
   "source": [
    "inventaire.values()"
   ]
  },
  {
   "cell_type": "code",
   "execution_count": 4,
   "id": "d7b39b24",
   "metadata": {},
   "outputs": [
    {
     "data": {
      "text/plain": [
       "dict_keys(['poire', 'pomme', 'cerise'])"
      ]
     },
     "execution_count": 4,
     "metadata": {},
     "output_type": "execute_result"
    }
   ],
   "source": [
    "inventaire.keys()"
   ]
  },
  {
   "cell_type": "code",
   "execution_count": 5,
   "id": "b720a56e",
   "metadata": {},
   "outputs": [
    {
     "data": {
      "text/plain": [
       "3"
      ]
     },
     "execution_count": 5,
     "metadata": {},
     "output_type": "execute_result"
    }
   ],
   "source": [
    "len(inventaire)"
   ]
  },
  {
   "cell_type": "code",
   "execution_count": 27,
   "id": "4d5150d8",
   "metadata": {},
   "outputs": [
    {
     "data": {
      "text/plain": [
       "{'poire': 5000, 'pomme': 109, 'cerise': 214, 'abricot': 34}"
      ]
     },
     "execution_count": 27,
     "metadata": {},
     "output_type": "execute_result"
    }
   ],
   "source": [
    "inventaire[\"abricot\"] = 34\n",
    "inventaire"
   ]
  },
  {
   "cell_type": "code",
   "execution_count": 11,
   "id": "24508d14",
   "metadata": {},
   "outputs": [
    {
     "name": "stdout",
     "output_type": "stream",
     "text": [
      "Aucun résultat\n"
     ]
    }
   ],
   "source": [
    "print(inventaire.get('pêche', \"Aucun résultat\"))"
   ]
  },
  {
   "cell_type": "code",
   "execution_count": 3,
   "id": "b695a2f4",
   "metadata": {},
   "outputs": [
    {
     "data": {
      "text/plain": [
       "{'paris': 'default', 'tokyo': 'default'}"
      ]
     },
     "execution_count": 3,
     "metadata": {},
     "output_type": "execute_result"
    }
   ],
   "source": [
    "liste1 = ('paris','tokyo')\n",
    "inventaire.fromkeys(liste1, 'default')"
   ]
  },
  {
   "cell_type": "code",
   "execution_count": 28,
   "id": "bd7b6410",
   "metadata": {},
   "outputs": [
    {
     "data": {
      "text/plain": [
       "34"
      ]
     },
     "execution_count": 28,
     "metadata": {},
     "output_type": "execute_result"
    }
   ],
   "source": [
    "inventaire\n",
    "result = inventaire.pop('abricot')\n",
    "result"
   ]
  },
  {
   "cell_type": "code",
   "execution_count": 29,
   "id": "b3033c7c",
   "metadata": {},
   "outputs": [
    {
     "name": "stdout",
     "output_type": "stream",
     "text": [
      "poire\n",
      "pomme\n",
      "cerise\n"
     ]
    }
   ],
   "source": [
    "for i in inventaire:\n",
    "    print(i)"
   ]
  },
  {
   "cell_type": "code",
   "execution_count": 30,
   "id": "7db1ef7c",
   "metadata": {},
   "outputs": [
    {
     "name": "stdout",
     "output_type": "stream",
     "text": [
      "5000\n",
      "109\n",
      "214\n"
     ]
    }
   ],
   "source": [
    "for i in inventaire.values():\n",
    "    print(i)"
   ]
  },
  {
   "cell_type": "code",
   "execution_count": 32,
   "id": "a372c81c",
   "metadata": {},
   "outputs": [
    {
     "name": "stdout",
     "output_type": "stream",
     "text": [
      "('poire', 5000)\n",
      "('pomme', 109)\n",
      "('cerise', 214)\n"
     ]
    }
   ],
   "source": [
    "for i in inventaire.items():\n",
    "    print(i)"
   ]
  },
  {
   "cell_type": "code",
   "execution_count": null,
   "id": "5ffb5809",
   "metadata": {},
   "outputs": [],
   "source": []
  }
 ],
 "metadata": {
  "kernelspec": {
   "display_name": "Python 3",
   "language": "python",
   "name": "python3"
  },
  "language_info": {
   "codemirror_mode": {
    "name": "ipython",
    "version": 3
   },
   "file_extension": ".py",
   "mimetype": "text/x-python",
   "name": "python",
   "nbconvert_exporter": "python",
   "pygments_lexer": "ipython3",
   "version": "3.8.8"
  }
 },
 "nbformat": 4,
 "nbformat_minor": 5
}
