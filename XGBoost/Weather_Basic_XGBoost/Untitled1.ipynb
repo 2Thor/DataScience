{
 "cells": [
  {
   "cell_type": "code",
   "execution_count": null,
   "id": "6d236a6e",
   "metadata": {},
   "outputs": [
    {
     "ename": "",
     "evalue": "",
     "output_type": "error",
     "traceback": [
      "\u001b[1;31mLes cellules en cours d’exécution avec Python 3.8.0 64-bit nécessitent ipykernel package.\n",
      "Exécutez la commande suivante pour installer 'ipykernel' dans l’environnement Python. \r\n",
      "Commande : 'c:/Users/cdethoor/AppData/Local/Programs/Python/Python38/python.exe -m pip install ipykernel -U --user --force-reinstall'"
     ]
    }
   ],
   "source": [
    "import pandas as pd\n",
    "from sklearn.impute import SimpleImputer\n",
    "from sklearn.pipeline import Pipeline\n",
    "from sklearn.preprocessing import OneHotEncoder\n",
    "from sklearn.preprocessing import StandardScaler\n",
    "from sklearn.compose import ColumnTransformer"
   ]
  },
  {
   "cell_type": "code",
   "execution_count": null,
   "id": "7efd4958",
   "metadata": {},
   "outputs": [
    {
     "ename": "",
     "evalue": "",
     "output_type": "error",
     "traceback": [
      "\u001b[1;31mLes cellules en cours d’exécution avec Python 3.8.0 64-bit nécessitent ipykernel package.\n",
      "Exécutez la commande suivante pour installer 'ipykernel' dans l’environnement Python. \r\n",
      "Commande : 'c:/Users/cdethoor/AppData/Local/Programs/Python/Python38/python.exe -m pip install ipykernel -U --user --force-reinstall'"
     ]
    }
   ],
   "source": [
    "rain = pd.read_csv(\"weatherAUS.csv\")\n",
    "\n",
    "rain.head()"
   ]
  },
  {
   "cell_type": "code",
   "execution_count": null,
   "id": "4c3f7600",
   "metadata": {},
   "outputs": [
    {
     "ename": "",
     "evalue": "",
     "output_type": "error",
     "traceback": [
      "\u001b[1;31mLes cellules en cours d’exécution avec Python 3.8.0 64-bit nécessitent ipykernel package.\n",
      "Exécutez la commande suivante pour installer 'ipykernel' dans l’environnement Python. \r\n",
      "Commande : 'c:/Users/cdethoor/AppData/Local/Programs/Python/Python38/python.exe -m pip install ipykernel -U --user --force-reinstall'"
     ]
    }
   ],
   "source": [
    "rain.shape"
   ]
  },
  {
   "cell_type": "code",
   "execution_count": null,
   "id": "49199457",
   "metadata": {},
   "outputs": [
    {
     "ename": "",
     "evalue": "",
     "output_type": "error",
     "traceback": [
      "\u001b[1;31mLes cellules en cours d’exécution avec Python 3.8.0 64-bit nécessitent ipykernel package.\n",
      "Exécutez la commande suivante pour installer 'ipykernel' dans l’environnement Python. \r\n",
      "Commande : 'c:/Users/cdethoor/AppData/Local/Programs/Python/Python38/python.exe -m pip install ipykernel -U --user --force-reinstall'"
     ]
    }
   ],
   "source": [
    "rain.info()"
   ]
  },
  {
   "cell_type": "markdown",
   "id": "02757981",
   "metadata": {},
   "source": [
    "## Work only on today "
   ]
  },
  {
   "cell_type": "code",
   "execution_count": null,
   "id": "854aae82",
   "metadata": {},
   "outputs": [
    {
     "ename": "",
     "evalue": "",
     "output_type": "error",
     "traceback": [
      "\u001b[1;31mLes cellules en cours d’exécution avec Python 3.8.0 64-bit nécessitent ipykernel package.\n",
      "Exécutez la commande suivante pour installer 'ipykernel' dans l’environnement Python. \r\n",
      "Commande : 'c:/Users/cdethoor/AppData/Local/Programs/Python/Python38/python.exe -m pip install ipykernel -U --user --force-reinstall'"
     ]
    }
   ],
   "source": [
    "cols_to_drop = [\"Date\", \"Location\", \"RainTomorrow\", \"Rainfall\"]\n",
    "\n",
    "rain.drop(cols_to_drop, axis=1, inplace=True)"
   ]
  },
  {
   "cell_type": "code",
   "execution_count": null,
   "id": "495553ef",
   "metadata": {},
   "outputs": [
    {
     "ename": "",
     "evalue": "",
     "output_type": "error",
     "traceback": [
      "\u001b[1;31mLes cellules en cours d’exécution avec Python 3.8.0 64-bit nécessitent ipykernel package.\n",
      "Exécutez la commande suivante pour installer 'ipykernel' dans l’environnement Python. \r\n",
      "Commande : 'c:/Users/cdethoor/AppData/Local/Programs/Python/Python38/python.exe -m pip install ipykernel -U --user --force-reinstall'"
     ]
    }
   ],
   "source": [
    "missing_props = rain.isna().mean(axis=0)\n",
    "missing_props"
   ]
  },
  {
   "cell_type": "code",
   "execution_count": null,
   "id": "a41ee188",
   "metadata": {},
   "outputs": [
    {
     "ename": "",
     "evalue": "",
     "output_type": "error",
     "traceback": [
      "\u001b[1;31mLes cellules en cours d’exécution avec Python 3.8.0 64-bit nécessitent ipykernel package.\n",
      "Exécutez la commande suivante pour installer 'ipykernel' dans l’environnement Python. \r\n",
      "Commande : 'c:/Users/cdethoor/AppData/Local/Programs/Python/Python38/python.exe -m pip install ipykernel -U --user --force-reinstall'"
     ]
    }
   ],
   "source": [
    "over_threshold = missing_props[missing_props >= 0.4]\n",
    "over_threshold"
   ]
  },
  {
   "cell_type": "code",
   "execution_count": null,
   "id": "f30745ce",
   "metadata": {},
   "outputs": [
    {
     "ename": "",
     "evalue": "",
     "output_type": "error",
     "traceback": [
      "\u001b[1;31mLes cellules en cours d’exécution avec Python 3.8.0 64-bit nécessitent ipykernel package.\n",
      "Exécutez la commande suivante pour installer 'ipykernel' dans l’environnement Python. \r\n",
      "Commande : 'c:/Users/cdethoor/AppData/Local/Programs/Python/Python38/python.exe -m pip install ipykernel -U --user --force-reinstall'"
     ]
    }
   ],
   "source": [
    "rain.drop(over_threshold.index, \n",
    "          axis=1, \n",
    "          inplace=True)"
   ]
  },
  {
   "cell_type": "code",
   "execution_count": null,
   "id": "1e17e1f6",
   "metadata": {},
   "outputs": [
    {
     "ename": "",
     "evalue": "",
     "output_type": "error",
     "traceback": [
      "\u001b[1;31mLes cellules en cours d’exécution avec Python 3.8.0 64-bit nécessitent ipykernel package.\n",
      "Exécutez la commande suivante pour installer 'ipykernel' dans l’environnement Python. \r\n",
      "Commande : 'c:/Users/cdethoor/AppData/Local/Programs/Python/Python38/python.exe -m pip install ipykernel -U --user --force-reinstall'"
     ]
    }
   ],
   "source": [
    "X = rain.drop(\"RainToday\", axis=1)\n",
    "y = rain.RainToday"
   ]
  },
  {
   "cell_type": "markdown",
   "id": "c0d5caca",
   "metadata": {},
   "source": [
    "## Sklearn"
   ]
  },
  {
   "cell_type": "code",
   "execution_count": null,
   "id": "1d73d120",
   "metadata": {},
   "outputs": [
    {
     "ename": "",
     "evalue": "",
     "output_type": "error",
     "traceback": [
      "\u001b[1;31mLes cellules en cours d’exécution avec Python 3.8.0 64-bit nécessitent ipykernel package.\n",
      "Exécutez la commande suivante pour installer 'ipykernel' dans l’environnement Python. \r\n",
      "Commande : 'c:/Users/cdethoor/AppData/Local/Programs/Python/Python38/python.exe -m pip install ipykernel -U --user --force-reinstall'"
     ]
    }
   ],
   "source": [
    "categorical_pipeline = Pipeline(\n",
    "    steps=[\n",
    "        (\"impute\", SimpleImputer(strategy=\"most_frequent\")),\n",
    "        (\"oh-encode\", OneHotEncoder(handle_unknown=\"ignore\", sparse=False)),\n",
    "    ]\n",
    ")"
   ]
  },
  {
   "cell_type": "code",
   "execution_count": null,
   "id": "42831023",
   "metadata": {},
   "outputs": [
    {
     "ename": "",
     "evalue": "",
     "output_type": "error",
     "traceback": [
      "\u001b[1;31mLes cellules en cours d’exécution avec Python 3.8.0 64-bit nécessitent ipykernel package.\n",
      "Exécutez la commande suivante pour installer 'ipykernel' dans l’environnement Python. \r\n",
      "Commande : 'c:/Users/cdethoor/AppData/Local/Programs/Python/Python38/python.exe -m pip install ipykernel -U --user --force-reinstall'"
     ]
    }
   ],
   "source": [
    "numeric_pipeline = Pipeline(\n",
    "    steps=[(\"impute\", SimpleImputer(strategy=\"mean\")), \n",
    "           (\"scale\", StandardScaler())]\n",
    ")"
   ]
  },
  {
   "cell_type": "code",
   "execution_count": null,
   "id": "56874cdd",
   "metadata": {},
   "outputs": [
    {
     "ename": "",
     "evalue": "",
     "output_type": "error",
     "traceback": [
      "\u001b[1;31mLes cellules en cours d’exécution avec Python 3.8.0 64-bit nécessitent ipykernel package.\n",
      "Exécutez la commande suivante pour installer 'ipykernel' dans l’environnement Python. \r\n",
      "Commande : 'c:/Users/cdethoor/AppData/Local/Programs/Python/Python38/python.exe -m pip install ipykernel -U --user --force-reinstall'"
     ]
    }
   ],
   "source": [
    "cat_cols = X.select_dtypes(exclude=\"number\").columns\n",
    "num_cols = X.select_dtypes(include=\"number\").columns"
   ]
  },
  {
   "cell_type": "code",
   "execution_count": null,
   "id": "7a96a9b6",
   "metadata": {},
   "outputs": [
    {
     "ename": "",
     "evalue": "",
     "output_type": "error",
     "traceback": [
      "\u001b[1;31mLes cellules en cours d’exécution avec Python 3.8.0 64-bit nécessitent ipykernel package.\n",
      "Exécutez la commande suivante pour installer 'ipykernel' dans l’environnement Python. \r\n",
      "Commande : 'c:/Users/cdethoor/AppData/Local/Programs/Python/Python38/python.exe -m pip install ipykernel -U --user --force-reinstall'"
     ]
    }
   ],
   "source": [
    "full_processor = ColumnTransformer(\n",
    "    transformers=[\n",
    "        (\"numeric\", numeric_pipeline, num_cols),\n",
    "        (\"categorical\", categorical_pipeline, cat_cols),\n",
    "    ]\n",
    ")"
   ]
  },
  {
   "cell_type": "code",
   "execution_count": null,
   "id": "037f66ac",
   "metadata": {},
   "outputs": [
    {
     "ename": "",
     "evalue": "",
     "output_type": "error",
     "traceback": [
      "\u001b[1;31mLes cellules en cours d’exécution avec Python 3.8.0 64-bit nécessitent ipykernel package.\n",
      "Exécutez la commande suivante pour installer 'ipykernel' dans l’environnement Python. \r\n",
      "Commande : 'c:/Users/cdethoor/AppData/Local/Programs/Python/Python38/python.exe -m pip install ipykernel -U --user --force-reinstall'"
     ]
    }
   ],
   "source": [
    "import xgboost as xgb"
   ]
  },
  {
   "cell_type": "code",
   "execution_count": null,
   "id": "464ddaa5",
   "metadata": {},
   "outputs": [
    {
     "ename": "",
     "evalue": "",
     "output_type": "error",
     "traceback": [
      "\u001b[1;31mLes cellules en cours d’exécution avec Python 3.8.0 64-bit nécessitent ipykernel package.\n",
      "Exécutez la commande suivante pour installer 'ipykernel' dans l’environnement Python. \r\n",
      "Commande : 'c:/Users/cdethoor/AppData/Local/Programs/Python/Python38/python.exe -m pip install ipykernel -U --user --force-reinstall'"
     ]
    }
   ],
   "source": [
    "xgb_cl = xgb.XGBClassifier()"
   ]
  },
  {
   "cell_type": "code",
   "execution_count": null,
   "id": "f18497b6",
   "metadata": {},
   "outputs": [
    {
     "ename": "",
     "evalue": "",
     "output_type": "error",
     "traceback": [
      "\u001b[1;31mLes cellules en cours d’exécution avec Python 3.8.0 64-bit nécessitent ipykernel package.\n",
      "Exécutez la commande suivante pour installer 'ipykernel' dans l’environnement Python. \r\n",
      "Commande : 'c:/Users/cdethoor/AppData/Local/Programs/Python/Python38/python.exe -m pip install ipykernel -U --user --force-reinstall'"
     ]
    }
   ],
   "source": [
    "print(type(xgb_cl))"
   ]
  },
  {
   "cell_type": "code",
   "execution_count": null,
   "id": "0be5afd5",
   "metadata": {},
   "outputs": [
    {
     "ename": "",
     "evalue": "",
     "output_type": "error",
     "traceback": [
      "\u001b[1;31mLes cellules en cours d’exécution avec Python 3.8.0 64-bit nécessitent ipykernel package.\n",
      "Exécutez la commande suivante pour installer 'ipykernel' dans l’environnement Python. \r\n",
      "Commande : 'c:/Users/cdethoor/AppData/Local/Programs/Python/Python38/python.exe -m pip install ipykernel -U --user --force-reinstall'"
     ]
    }
   ],
   "source": [
    "# Apply preprocessing\n",
    "X_processed = full_processor.fit_transform(X)\n",
    "y_processed = SimpleImputer(strategy=\"most_frequent\").fit_transform(\n",
    "    y.values.reshape(-1, 1)\n",
    ")\n",
    "\n",
    "from sklearn.model_selection import train_test_split\n",
    "\n",
    "X_train, X_test, y_train, y_test = train_test_split(\n",
    "    X_processed, y_processed, stratify=y_processed, random_state=1121218\n",
    ")"
   ]
  },
  {
   "cell_type": "code",
   "execution_count": null,
   "id": "5bbe1b5c",
   "metadata": {},
   "outputs": [
    {
     "ename": "",
     "evalue": "",
     "output_type": "error",
     "traceback": [
      "\u001b[1;31mLes cellules en cours d’exécution avec Python 3.8.0 64-bit nécessitent ipykernel package.\n",
      "Exécutez la commande suivante pour installer 'ipykernel' dans l’environnement Python. \r\n",
      "Commande : 'c:/Users/cdethoor/AppData/Local/Programs/Python/Python38/python.exe -m pip install ipykernel -U --user --force-reinstall'"
     ]
    }
   ],
   "source": [
    "from sklearn.metrics import accuracy_score\n",
    "\n",
    "# Init classifier\n",
    "xgb_cl = xgb.XGBClassifier()\n",
    "\n",
    "# Fit\n",
    "xgb_cl.fit(X_train, y_train)\n",
    "\n",
    "# Predict\n",
    "preds = xgb_cl.predict(X_test)\n"
   ]
  },
  {
   "cell_type": "code",
   "execution_count": null,
   "id": "2e4f46a8",
   "metadata": {},
   "outputs": [
    {
     "ename": "",
     "evalue": "",
     "output_type": "error",
     "traceback": [
      "\u001b[1;31mLes cellules en cours d’exécution avec Python 3.8.0 64-bit nécessitent ipykernel package.\n",
      "Exécutez la commande suivante pour installer 'ipykernel' dans l’environnement Python. \r\n",
      "Commande : 'c:/Users/cdethoor/AppData/Local/Programs/Python/Python38/python.exe -m pip install ipykernel -U --user --force-reinstall'"
     ]
    }
   ],
   "source": [
    "accuracy_score(y_test, preds)"
   ]
  },
  {
   "cell_type": "code",
   "execution_count": null,
   "id": "88f3b43b",
   "metadata": {},
   "outputs": [
    {
     "ename": "",
     "evalue": "",
     "output_type": "error",
     "traceback": [
      "\u001b[1;31mLes cellules en cours d’exécution avec Python 3.8.0 64-bit nécessitent ipykernel package.\n",
      "Exécutez la commande suivante pour installer 'ipykernel' dans l’environnement Python. \r\n",
      "Commande : 'c:/Users/cdethoor/AppData/Local/Programs/Python/Python38/python.exe -m pip install ipykernel -U --user --force-reinstall'"
     ]
    }
   ],
   "source": []
  }
 ],
 "metadata": {
  "kernelspec": {
   "display_name": "Python 3.8.0 64-bit",
   "language": "python",
   "name": "python3"
  },
  "language_info": {
   "codemirror_mode": {
    "name": "ipython",
    "version": 3
   },
   "file_extension": ".py",
   "mimetype": "text/x-python",
   "name": "python",
   "nbconvert_exporter": "python",
   "pygments_lexer": "ipython3",
   "version": "3.8.0"
  },
  "vscode": {
   "interpreter": {
    "hash": "60a05a206942eb59066b5ec9266939d27fc7dd01cdc5e8ab7d948b6746f34fde"
   }
  }
 },
 "nbformat": 4,
 "nbformat_minor": 5
}
