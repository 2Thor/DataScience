{
 "cells": [
  {
   "cell_type": "code",
   "execution_count": 1,
   "id": "1f808248",
   "metadata": {},
   "outputs": [
    {
     "name": "stdout",
     "output_type": "stream",
     "text": [
      "[0, 1, 4, 9, 16, 25, 36, 49, 64, 81]\n"
     ]
    }
   ],
   "source": [
    "# tous les carrés de 0 à 9\n",
    "liste_1 = []\n",
    "for i in range (10):\n",
    "    liste_1.append(i**2)\n",
    "\n",
    "print(liste_1)"
   ]
  },
  {
   "cell_type": "code",
   "execution_count": 3,
   "id": "c1053430",
   "metadata": {},
   "outputs": [
    {
     "name": "stdout",
     "output_type": "stream",
     "text": [
      "[0, 1, 4, 9, 16, 25, 36, 49, 64, 81]\n"
     ]
    }
   ],
   "source": [
    "liste_2 = [ i**2 for i in range(10)]\n",
    "print(liste_2)"
   ]
  },
  {
   "cell_type": "code",
   "execution_count": 6,
   "id": "3f7fd747",
   "metadata": {},
   "outputs": [
    {
     "data": {
      "text/plain": [
       "[[0, 1, 2], [1, 2, 3], [2, 3, 4]]"
      ]
     },
     "execution_count": 6,
     "metadata": {},
     "output_type": "execute_result"
    }
   ],
   "source": [
    "liste_3 = [[i+j for i in range(3)] for j in range(3)]\n",
    "liste_3"
   ]
  },
  {
   "cell_type": "markdown",
   "id": "d996044a",
   "metadata": {},
   "source": [
    "## Dico comprehension"
   ]
  },
  {
   "cell_type": "code",
   "execution_count": 4,
   "id": "98c7ac66",
   "metadata": {},
   "outputs": [],
   "source": [
    "dictionnaire = {'0' : 'pierre',\n",
    "                '1' : 'jean',\n",
    "                '2' : 'Julie',\n",
    "                '3' : 'Sophie',}\n",
    "prenoms = ['Pierre','Jean','Julie','Sophie']"
   ]
  },
  {
   "cell_type": "code",
   "execution_count": 3,
   "id": "758d343f",
   "metadata": {},
   "outputs": [
    {
     "name": "stdout",
     "output_type": "stream",
     "text": [
      "{0: 'Pierre', 1: 'Jean', 2: 'Julie', 3: 'Sophie'}\n"
     ]
    }
   ],
   "source": [
    "dico = {k:v for k, v in enumerate(prenoms)}\n",
    "print(dico)"
   ]
  },
  {
   "cell_type": "code",
   "execution_count": 5,
   "id": "5e8c241f",
   "metadata": {},
   "outputs": [],
   "source": [
    "age = [24,62,10,23]"
   ]
  },
  {
   "cell_type": "code",
   "execution_count": 11,
   "id": "a3dd6a32",
   "metadata": {},
   "outputs": [
    {
     "data": {
      "text/plain": [
       "{'Pierre': 24, 'Jean': 62, 'Sophie': 23}"
      ]
     },
     "execution_count": 11,
     "metadata": {},
     "output_type": "execute_result"
    }
   ],
   "source": [
    "dico_2 = { prenoms:age for prenoms , age in zip(prenoms, age) if age > 20 }\n",
    "dico_2"
   ]
  },
  {
   "cell_type": "code",
   "execution_count": null,
   "id": "df20cc93",
   "metadata": {},
   "outputs": [],
   "source": []
  }
 ],
 "metadata": {
  "kernelspec": {
   "display_name": "Python 3",
   "language": "python",
   "name": "python3"
  },
  "language_info": {
   "codemirror_mode": {
    "name": "ipython",
    "version": 3
   },
   "file_extension": ".py",
   "mimetype": "text/x-python",
   "name": "python",
   "nbconvert_exporter": "python",
   "pygments_lexer": "ipython3",
   "version": "3.8.8"
  }
 },
 "nbformat": 4,
 "nbformat_minor": 5
}
