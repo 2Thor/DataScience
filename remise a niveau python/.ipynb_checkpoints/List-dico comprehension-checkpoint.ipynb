{
 "cells": [
  {
   "cell_type": "code",
   "execution_count": 1,
   "id": "1f808248",
   "metadata": {},
   "outputs": [
    {
     "name": "stdout",
     "output_type": "stream",
     "text": [
      "[0, 1, 4, 9, 16, 25, 36, 49, 64, 81]\n"
     ]
    }
   ],
   "source": [
    "liste_1 = []\n",
    "for i in range (10):\n",
    "    liste_1.append(i**2)\n",
    "\n",
    "print(liste_1)"
   ]
  },
  {
   "cell_type": "code",
   "execution_count": 3,
   "id": "c1053430",
   "metadata": {},
   "outputs": [
    {
     "name": "stdout",
     "output_type": "stream",
     "text": [
      "[0, 1, 4, 9, 16, 25, 36, 49, 64, 81]\n"
     ]
    }
   ],
   "source": [
    "liste_2 = [ i**2 for i in range(10)]\n",
    "print(liste_2)"
   ]
  },
  {
   "cell_type": "code",
   "execution_count": 6,
   "id": "3f7fd747",
   "metadata": {},
   "outputs": [
    {
     "data": {
      "text/plain": [
       "[[0, 1, 2], [1, 2, 3], [2, 3, 4]]"
      ]
     },
     "execution_count": 6,
     "metadata": {},
     "output_type": "execute_result"
    }
   ],
   "source": [
    "liste_3 = [[i+j for i in range(3)] for j in range(3)]\n",
    "liste_3"
   ]
  },
  {
   "cell_type": "code",
   "execution_count": 7,
   "id": "8ddab7ef",
   "metadata": {},
   "outputs": [],
   "source": [
    "## Dic comprhension"
   ]
  },
  {
   "cell_type": "code",
   "execution_count": null,
   "id": "98c7ac66",
   "metadata": {},
   "outputs": [],
   "source": []
  }
 ],
 "metadata": {
  "kernelspec": {
   "display_name": "Python 3",
   "language": "python",
   "name": "python3"
  },
  "language_info": {
   "codemirror_mode": {
    "name": "ipython",
    "version": 3
   },
   "file_extension": ".py",
   "mimetype": "text/x-python",
   "name": "python",
   "nbconvert_exporter": "python",
   "pygments_lexer": "ipython3",
   "version": "3.8.8"
  }
 },
 "nbformat": 4,
 "nbformat_minor": 5
}
