{
 "cells": [
  {
   "cell_type": "code",
   "execution_count": 1,
   "id": "bdc7fbdb",
   "metadata": {},
   "outputs": [
    {
     "data": {
      "text/plain": [
       "3"
      ]
     },
     "execution_count": 1,
     "metadata": {},
     "output_type": "execute_result"
    }
   ],
   "source": [
    "x = -3\n",
    "abs(x)"
   ]
  },
  {
   "cell_type": "code",
   "execution_count": 3,
   "id": "c1d7ecb6",
   "metadata": {},
   "outputs": [
    {
     "data": {
      "text/plain": [
       "3"
      ]
     },
     "execution_count": 3,
     "metadata": {},
     "output_type": "execute_result"
    }
   ],
   "source": [
    "y = 3.14\n",
    "round(y)"
   ]
  },
  {
   "cell_type": "code",
   "execution_count": 5,
   "id": "77008e68",
   "metadata": {},
   "outputs": [
    {
     "data": {
      "text/plain": [
       "-15"
      ]
     },
     "execution_count": 5,
     "metadata": {},
     "output_type": "execute_result"
    }
   ],
   "source": [
    "liste1 = [13,-15,1,100]\n",
    "min(liste1)"
   ]
  },
  {
   "cell_type": "code",
   "execution_count": 6,
   "id": "07e11229",
   "metadata": {},
   "outputs": [
    {
     "data": {
      "text/plain": [
       "100"
      ]
     },
     "execution_count": 6,
     "metadata": {},
     "output_type": "execute_result"
    }
   ],
   "source": [
    "max(liste1)"
   ]
  },
  {
   "cell_type": "code",
   "execution_count": 2,
   "id": "2bb7e943",
   "metadata": {},
   "outputs": [],
   "source": [
    "list_1 = [12,13,15]"
   ]
  },
  {
   "cell_type": "code",
   "execution_count": 10,
   "id": "c0cd4579",
   "metadata": {},
   "outputs": [
    {
     "data": {
      "text/plain": [
       "(12, 13, 15)"
      ]
     },
     "execution_count": 10,
     "metadata": {},
     "output_type": "execute_result"
    }
   ],
   "source": [
    "tuple_1 = tuple(list_1)\n",
    "tuple_1"
   ]
  },
  {
   "cell_type": "code",
   "execution_count": 9,
   "id": "d238275c",
   "metadata": {},
   "outputs": [
    {
     "data": {
      "text/plain": [
       "[12, 13, 15]"
      ]
     },
     "execution_count": 9,
     "metadata": {},
     "output_type": "execute_result"
    }
   ],
   "source": [
    "list(tuple_1)"
   ]
  },
  {
   "cell_type": "code",
   "execution_count": 18,
   "id": "f8058cd0",
   "metadata": {},
   "outputs": [
    {
     "name": "stdout",
     "output_type": "stream",
     "text": [
      "Veuillez entrer un nombre 12\n",
      "<class 'int'>\n"
     ]
    }
   ],
   "source": [
    "s = int (input(\"Veuillez entrer un nombre \")) \n",
    "print(type(s))"
   ]
  },
  {
   "cell_type": "markdown",
   "id": "4283bb4f",
   "metadata": {},
   "source": [
    "## Format()"
   ]
  },
  {
   "cell_type": "code",
   "execution_count": 21,
   "id": "001d4d5d",
   "metadata": {},
   "outputs": [
    {
     "name": "stdout",
     "output_type": "stream",
     "text": [
      "La température est de 25 degC à Paris\n"
     ]
    }
   ],
   "source": [
    "x = 25\n",
    "ville = 'Paris'\n",
    "\n",
    "message = f\"La température est de {x} degC à {ville}\"\n",
    "print(message)"
   ]
  },
  {
   "cell_type": "code",
   "execution_count": 29,
   "id": "859afb76",
   "metadata": {},
   "outputs": [],
   "source": [
    "import numpy as np\n",
    "\n",
    "parametres = {\n",
    "    \"w1\" : np.random.randn(2,4),\n",
    "    \"b1\" : np.zeros((2, 1)),\n",
    "    \"w2\" : np.random.randn(2,2),\n",
    "    \"b2\" : np.zeros((2, 1)),\n",
    "}"
   ]
  },
  {
   "cell_type": "code",
   "execution_count": 30,
   "id": "96fe0031",
   "metadata": {},
   "outputs": [
    {
     "name": "stdout",
     "output_type": "stream",
     "text": [
      "couche 1\n",
      "[[-1.00387477  1.83389996 -0.7601803  -0.7633922 ]\n",
      " [-0.09067211  1.2656607   0.06868467  1.18137364]]\n",
      "couche 2\n",
      "[[-1.45051986  0.03171062]\n",
      " [-1.58660303 -0.35500756]]\n"
     ]
    }
   ],
   "source": [
    "for i in range(1,3):\n",
    "    print(\"couche\", i)\n",
    "    print(parametres[\"w{}\".format(i)])"
   ]
  },
  {
   "cell_type": "markdown",
   "id": "ff4c0cb0",
   "metadata": {},
   "source": [
    "## Open()"
   ]
  },
  {
   "cell_type": "code",
   "execution_count": 31,
   "id": "e5f2fcb1",
   "metadata": {},
   "outputs": [],
   "source": [
    "f = open(\"fichier.txt\", 'w')"
   ]
  },
  {
   "cell_type": "code",
   "execution_count": 32,
   "id": "d8cb09a3",
   "metadata": {},
   "outputs": [],
   "source": [
    "f.write(\"bonjour\")\n",
    "f.close()"
   ]
  },
  {
   "cell_type": "code",
   "execution_count": 36,
   "id": "fe139226",
   "metadata": {},
   "outputs": [
    {
     "name": "stdout",
     "output_type": "stream",
     "text": [
      "bonjour\n"
     ]
    }
   ],
   "source": [
    "f = open(\"fichier.txt\", 'r')\n",
    "print(f.read())\n",
    "f.close()"
   ]
  },
  {
   "cell_type": "code",
   "execution_count": 38,
   "id": "577bf8c5",
   "metadata": {},
   "outputs": [
    {
     "name": "stdout",
     "output_type": "stream",
     "text": [
      "bonjour\n"
     ]
    }
   ],
   "source": [
    "with open('fichier.txt', 'r') as f:\n",
    "    print(f.read())"
   ]
  },
  {
   "cell_type": "code",
   "execution_count": 46,
   "id": "0b9474b9",
   "metadata": {},
   "outputs": [],
   "source": [
    "with open('fichier.txt', 'w') as f:\n",
    "    for i in range(10):\n",
    "        f.write(f\"{i}^2 est égale à {str(i**2)} \\n\")"
   ]
  },
  {
   "cell_type": "code",
   "execution_count": 47,
   "id": "9fea6e13",
   "metadata": {},
   "outputs": [
    {
     "name": "stdout",
     "output_type": "stream",
     "text": [
      "0^2 est égale à 0 \n",
      "1^2 est égale à 1 \n",
      "2^2 est égale à 4 \n",
      "3^2 est égale à 9 \n",
      "4^2 est égale à 16 \n",
      "5^2 est égale à 25 \n",
      "6^2 est égale à 36 \n",
      "7^2 est égale à 49 \n",
      "8^2 est égale à 64 \n",
      "9^2 est égale à 81 \n",
      "\n"
     ]
    }
   ],
   "source": [
    "f = open('fichier.txt', 'r')\n",
    "print(f.read())"
   ]
  },
  {
   "cell_type": "code",
   "execution_count": null,
   "id": "c390ddc6",
   "metadata": {},
   "outputs": [],
   "source": []
  }
 ],
 "metadata": {
  "kernelspec": {
   "display_name": "Python 3",
   "language": "python",
   "name": "python3"
  },
  "language_info": {
   "codemirror_mode": {
    "name": "ipython",
    "version": 3
   },
   "file_extension": ".py",
   "mimetype": "text/x-python",
   "name": "python",
   "nbconvert_exporter": "python",
   "pygments_lexer": "ipython3",
   "version": "3.8.8"
  }
 },
 "nbformat": 4,
 "nbformat_minor": 5
}
